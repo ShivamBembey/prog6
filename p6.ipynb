{
 "cells": [
  {
   "cell_type": "code",
   "execution_count": 4,
   "id": "324fefd9",
   "metadata": {},
   "outputs": [],
   "source": [
    "# Difference between json.dump() and json.dumps()\n",
    "\n",
    "# json.dumps() method can convert a Python object into a JSON string.\n",
    "# json.dump() method can be used for writing to JSON file."
   ]
  },
  {
   "cell_type": "code",
   "execution_count": 10,
   "id": "50e6b937",
   "metadata": {},
   "outputs": [
    {
     "name": "stdout",
     "output_type": "stream",
     "text": [
      "Name == Shivam\n",
      "Age == 22\n",
      "Id == 587\n"
     ]
    }
   ],
   "source": [
    "def myFun(**kwargs):\n",
    "    for key, value in kwargs.items(): \n",
    "        print('%s == %s' % (key, value))\n",
    "\n",
    "myFun(Name='Shivam', Age=22, City='Ambala')"
   ]
  }
 ],
 "metadata": {
  "kernelspec": {
   "display_name": "Python 3 (ipykernel)",
   "language": "python",
   "name": "python3"
  },
  "language_info": {
   "codemirror_mode": {
    "name": "ipython",
    "version": 3
   },
   "file_extension": ".py",
   "mimetype": "text/x-python",
   "name": "python",
   "nbconvert_exporter": "python",
   "pygments_lexer": "ipython3",
   "version": "3.9.12"
  }
 },
 "nbformat": 4,
 "nbformat_minor": 5
}
